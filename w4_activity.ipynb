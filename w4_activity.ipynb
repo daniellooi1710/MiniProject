{
 "cells": [
  {
   "cell_type": "code",
   "id": "initial_id",
   "metadata": {
    "collapsed": true,
    "ExecuteTime": {
     "end_time": "2024-07-22T12:05:26.323766Z",
     "start_time": "2024-07-22T12:05:25.907527Z"
    }
   },
   "source": [
    "import numpy as np\n",
    "import cv2 as cv\n",
    "from utils import display_images, display_image"
   ],
   "outputs": [],
   "execution_count": 1
  },
  {
   "metadata": {},
   "cell_type": "markdown",
   "source": "### Question 1: Create a **random noise color and grayscale** image. You can set your own width and height, but keep the total number of pixels of both images identical.\n",
   "id": "f16c4574aa44b13"
  },
  {
   "metadata": {
    "ExecuteTime": {
     "end_time": "2024-07-22T12:07:19.698387Z",
     "start_time": "2024-07-22T12:07:15.412040Z"
    }
   },
   "cell_type": "code",
   "source": [
    "rnd_color = np.random.randint(0, 256, (500, 500, 3), dtype=np.uint8)\n",
    "rnd_gray = np.random.randint(0, 256, (500, 500), dtype=np.uint8)\n",
    "\n",
    "display_images([rnd_color, rnd_gray], (\"rnd_color\", \"rnd_gray\"))"
   ],
   "id": "e009d99938ac763d",
   "outputs": [],
   "execution_count": 2
  },
  {
   "metadata": {},
   "cell_type": "markdown",
   "source": "### Question 2: Convert the code chunk found under section <a href=\"#Section1\">Divide an image into smaller patches using cropping</a> into a function with the following signature:",
   "id": "9f0cd2e69bf39cd8"
  },
  {
   "metadata": {
    "ExecuteTime": {
     "end_time": "2024-07-22T12:07:21.109242Z",
     "start_time": "2024-07-22T12:07:21.105296Z"
    }
   },
   "cell_type": "code",
   "source": [
    "def crop_grid(img, num_horizontal_grid, num_vertical_grid, line_color):\n",
    "    image = img.copy()\n",
    "    h, w = img.shape[:2]\n",
    "    \n",
    "    M1, N1 = int(h / num_vertical_grid), int(w / num_horizontal_grid)\n",
    "    \n",
    "    x1, y1 = 0, 0\n",
    "\n",
    "    for y in range(0, h, M1):\n",
    "        for x in range(0, w, N1):\n",
    "        \n",
    "            y1 = y + M1\n",
    "            x1 = x + N1\n",
    "        \n",
    "            if x1>=w and y1>=h:\n",
    "                x1 = w - 1\n",
    "                y1 = h - 1\n",
    "            \n",
    "            elif y1>=h:\n",
    "                y1 = h - 1\n",
    "            \n",
    "            elif x1>=w:\n",
    "                x1 = w - 1\n",
    "            \n",
    "            cv.rectangle(image, (x, y), (x1, y1), line_color, 1)\n",
    "            \n",
    "    display_image(\"Cropped Image\", image)"
   ],
   "id": "8bb40ba570018a98",
   "outputs": [],
   "execution_count": 3
  },
  {
   "metadata": {
    "ExecuteTime": {
     "end_time": "2024-07-22T12:07:25.383062Z",
     "start_time": "2024-07-22T12:07:23.773477Z"
    }
   },
   "cell_type": "code",
   "source": [
    "img = cv.imread('images/name_card_sample.webp')\n",
    "crop_grid(img, 3, 4, (50, 200, 110))"
   ],
   "id": "aff495043e2867e4",
   "outputs": [],
   "execution_count": 4
  },
  {
   "metadata": {},
   "cell_type": "markdown",
   "source": "### Question 3: How would you *change the brightness* of a **color image**? Suggest **two ways** to perform the image processing operations. Implement your methods by providing the example codes. You are free to choose any image.",
   "id": "121b16bfc8aa7bfb"
  },
  {
   "metadata": {
    "ExecuteTime": {
     "end_time": "2024-07-22T12:07:27.135562Z",
     "start_time": "2024-07-22T12:07:27.132080Z"
    }
   },
   "cell_type": "code",
   "source": "img = cv.imread('images/lena.jfif')",
   "id": "add6d33fcc17ecac",
   "outputs": [],
   "execution_count": 5
  },
  {
   "metadata": {
    "ExecuteTime": {
     "end_time": "2024-07-22T12:07:34.666515Z",
     "start_time": "2024-07-22T12:07:32.661510Z"
    }
   },
   "cell_type": "code",
   "source": [
    "# Method 1: Using the cv.convertScaleAbs function\n",
    "#The cv.convertScaleAbs function can modify the contrast (alpha) and brightness (beta) of an image\n",
    "\n",
    "# Define the beta (brightness) value\n",
    "beta = 50    # brightness\n",
    "\n",
    "# Adjust the brightness (The function adds the beta value)\n",
    "brightened_img = cv.convertScaleAbs(img, beta=beta)\n",
    "\n",
    "display_images([img, brightened_img], (\"original_image\", \"brightened_image\"))"
   ],
   "id": "b95de72a930020b9",
   "outputs": [],
   "execution_count": 6
  },
  {
   "metadata": {
    "ExecuteTime": {
     "end_time": "2024-07-22T12:07:37.573601Z",
     "start_time": "2024-07-22T12:07:35.646224Z"
    }
   },
   "cell_type": "code",
   "source": [
    "# Method 2: Adding constant values to each pixel in the image\n",
    "\n",
    "# Create a matrix of ones and multiply it by the brightness value\n",
    "brightness_value = 50\n",
    "brightness_matrix = np.ones(img.shape, dtype=\"uint8\") * brightness_value\n",
    "\n",
    "# Add the brightness matrix to the image\n",
    "brightened_img2 = cv.add(img, brightness_matrix)\n",
    "\n",
    "display_images([img, brightened_img2], (\"original_image\", \"brightened_image2\"))"
   ],
   "id": "aa0dbb47cbd8263c",
   "outputs": [],
   "execution_count": 7
  },
  {
   "metadata": {},
   "cell_type": "markdown",
   "source": [
    "### 4. Provide at least one common use cases for the following color spaces:\n",
    "    - RGB\n",
    "    - HSV\n",
    "    - CIELAB"
   ],
   "id": "4a61f32d322d8c1"
  },
  {
   "metadata": {},
   "cell_type": "markdown",
   "source": [
    "**Answer:**\n",
    "\n",
    "RGB\n",
    "Use case: Display graphics on screen, including digital art, user interface and video clips\n",
    "\n",
    "HSV\n",
    "Use case: Histogram equalization, converting grayscale images to RGB color images\n",
    "\n",
    "CIELAB\n",
    "Use case: Used for surface colors, and not for mixtures of transmitted light"
   ],
   "id": "2f03789d7dadc004"
  }
 ],
 "metadata": {
  "kernelspec": {
   "display_name": "Python 3",
   "language": "python",
   "name": "python3"
  },
  "language_info": {
   "codemirror_mode": {
    "name": "ipython",
    "version": 2
   },
   "file_extension": ".py",
   "mimetype": "text/x-python",
   "name": "python",
   "nbconvert_exporter": "python",
   "pygments_lexer": "ipython2",
   "version": "2.7.6"
  }
 },
 "nbformat": 4,
 "nbformat_minor": 5
}
