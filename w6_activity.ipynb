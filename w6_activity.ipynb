{
 "cells": [
  {
   "metadata": {},
   "cell_type": "markdown",
   "source": [
    "# Weekly activities\n",
    "1. Apply custom sharpening kernel of aperture size 3 and 5 as shown below on 'native-bee.png':  \n",
    "$ 3 \\times 3$ kernel:  \n",
    "$ \\begin{bmatrix}\n",
    "0 & -1 & 0 \\\\\n",
    "-1 & 5 & -1 \\\\\n",
    "0 & -1 & 0\\\\\n",
    "\\end{bmatrix}$  \n",
    "$ 5 \\times 5$ kernel:  \n",
    "$ \\begin{bmatrix}\n",
    "-1 & -1 & -1 & -1 & -1 \\\\\n",
    "-1 & -1 & -1 & -1 & -1 \\\\\n",
    "-1 & -1 & 25 & -1 & -1 \\\\\n",
    "-1 & -1 & -1 & -1 & -1 \\\\\n",
    "-1 & -1 & -1 & -1 & -1 \\\\\n",
    "\\end{bmatrix}$  \n",
    "What can you infer from the outputs?\n",
    "2. Apply different image smoothing techniques (e.g. average filter, Gaussian kernel and median filter) on 'noise_lena.jpg' and display the resulting images after the convolution. Comment on the outcomes and deduce the type of noise present on the image.\n",
    "3. Write a program to *segment the boat and the people on it from the background*. Follow the instruction below:\n",
    "    - Use 'boat.jpg' as input.\n",
    "    - Apply Otsu thresholding.\n",
    "    - Draw bounding box to identify the region where the boat and people are located."
   ],
   "id": "3f1ce9eb033e4b0b"
  },
  {
   "metadata": {},
   "cell_type": "markdown",
   "source": "**Question 1**",
   "id": "ccc9d7e36ba7a341"
  },
  {
   "cell_type": "code",
   "id": "initial_id",
   "metadata": {
    "collapsed": true,
    "ExecuteTime": {
     "end_time": "2024-08-11T15:33:11.062118Z",
     "start_time": "2024-08-11T15:33:11.058786Z"
    }
   },
   "source": [
    "import numpy as np\n",
    "import cv2 as cv\n",
    "\n",
    "from utils import display_image, display_images"
   ],
   "outputs": [],
   "execution_count": 7
  },
  {
   "metadata": {
    "ExecuteTime": {
     "end_time": "2024-08-11T15:25:37.971441Z",
     "start_time": "2024-08-11T15:23:10.184684Z"
    }
   },
   "cell_type": "code",
   "source": [
    "kernel3 = np.array([[0, -1, 0],\n",
    "                  [-1, 5, -1],\n",
    "                  [0, -1, 0]])\n",
    "\n",
    "kernel5 = np.array([[-1, -1, -1, -1, -1],\n",
    "                    [-1, -1, -1, -1, -1],\n",
    "                    [-1, -1, 25, -1, -1],\n",
    "                    [-1, -1, -1, -1, -1],\n",
    "                    [-1, -1, -1, -1, -1]])\n",
    "\n",
    "img = cv.imread('images/native-bee.png')\n",
    "sharp3_img = cv.filter2D(img, -1, kernel3)\n",
    "sharp5_img = cv.filter2D(img, -1, kernel5)\n",
    "\n",
    "display_images([img, sharp3_img, sharp5_img], (\"original\", \"sharpen 3x3\", \"sharpen 5x5\"))"
   ],
   "id": "caba23d8fb8fedea",
   "outputs": [],
   "execution_count": 4
  },
  {
   "metadata": {},
   "cell_type": "markdown",
   "source": [
    "The image is over-sharpened on 5x5 kernel as the white lines around the ages appear to be quite thick.\n",
    "At 3x3 kernel the image already looks unnatural, but the 5x5 kernel further amplifies the unnatural look."
   ],
   "id": "b0aeccc8a1d567c7"
  },
  {
   "metadata": {},
   "cell_type": "markdown",
   "source": "**Question 2**",
   "id": "cc43a6f84492547c"
  },
  {
   "metadata": {
    "ExecuteTime": {
     "end_time": "2024-08-11T15:34:36.122373Z",
     "start_time": "2024-08-11T15:34:35.097496Z"
    }
   },
   "cell_type": "code",
   "source": [
    "img = cv.imread('images/noise_lena.jpg')\n",
    "display_image(\"original\", img)"
   ],
   "id": "51590b05013b74e5",
   "outputs": [],
   "execution_count": 9
  },
  {
   "metadata": {
    "ExecuteTime": {
     "end_time": "2024-08-11T15:41:32.031272Z",
     "start_time": "2024-08-11T15:37:29.296965Z"
    }
   },
   "cell_type": "code",
   "source": [
    "# average filter\n",
    "filter1 = cv.blur(img, (3, 3))\n",
    "\n",
    "# Gaussian blur\n",
    "filter2_gaussian = cv.GaussianBlur(img, (3, 3), 0)\n",
    "\n",
    "# median filter\n",
    "filter3_median = cv.medianBlur(img, 3)\n",
    "\n",
    "display_images([filter1, filter2_gaussian, filter3_median], (\"average filter\", \"gaussian blur\", \"median filter\"))"
   ],
   "id": "2d1fa3ad0748df97",
   "outputs": [],
   "execution_count": 13
  },
  {
   "metadata": {},
   "cell_type": "markdown",
   "source": [
    "Type of noise present: Salt and pepper noise\n",
    "Best performing smoothing technique is median filter - the noises are significantly reduced, while image is still quite clear and sharp\n",
    "Average filter's performance is ranked between median filter and Gaussian blur\n",
    "Average filter can smoothen the image more, which makes the image less noisy, but more blur\n",
    "Gaussian blur technique is slightly more sharper but did not effectively reduce noise."
   ],
   "id": "93d167e47de4146c"
  },
  {
   "metadata": {},
   "cell_type": "markdown",
   "source": "**Question 3**",
   "id": "126de0c6c30c5649"
  },
  {
   "metadata": {
    "ExecuteTime": {
     "end_time": "2024-08-11T15:59:12.081336Z",
     "start_time": "2024-08-11T15:59:11.468667Z"
    }
   },
   "cell_type": "code",
   "source": [
    "img = cv.imread(\"images/boat.jpg\")\n",
    "gray = cv.cvtColor(img, cv.COLOR_BGR2GRAY)\n",
    "\n",
    "_, th_img = cv.threshold(gray, 0, 255, cv.THRESH_OTSU)\n",
    "\n",
    "neg_img = cv.bitwise_not(th_img)\n",
    "contours, _ = cv.findContours(neg_img, cv.RETR_TREE, cv.CHAIN_APPROX_SIMPLE)\n",
    "\n",
    "largest_contour = max(contours, key=cv.contourArea)\n",
    "\n",
    "x, y, w, h = cv.boundingRect(largest_contour)\n",
    "\n",
    "cv.rectangle(img, (x,y), (x+w, y+h), (0, 255, 0), 2)\n",
    "\n",
    "display_image(\"Segmented\", img)"
   ],
   "id": "af854d981dbaf295",
   "outputs": [
    {
     "name": "stdout",
     "output_type": "stream",
     "text": [
      "The number of contours:  39\n"
     ]
    }
   ],
   "execution_count": 33
  }
 ],
 "metadata": {
  "kernelspec": {
   "display_name": "Python 3",
   "language": "python",
   "name": "python3"
  },
  "language_info": {
   "codemirror_mode": {
    "name": "ipython",
    "version": 2
   },
   "file_extension": ".py",
   "mimetype": "text/x-python",
   "name": "python",
   "nbconvert_exporter": "python",
   "pygments_lexer": "ipython2",
   "version": "2.7.6"
  }
 },
 "nbformat": 4,
 "nbformat_minor": 5
}
